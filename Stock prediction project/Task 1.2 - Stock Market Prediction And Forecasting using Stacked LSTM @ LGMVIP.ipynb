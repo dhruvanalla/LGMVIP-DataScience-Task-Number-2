{
 "cells": [
  {
   "cell_type": "markdown",
   "id": "665e415d",
   "metadata": {},
   "source": [
    "## LetsGrowMore - Nov2021"
   ]
  },
  {
   "cell_type": "markdown",
   "id": "0471f915",
   "metadata": {},
   "source": [
    "### Lakshit RamPrakash Gupta - Data Science Intern"
   ]
  },
  {
   "cell_type": "markdown",
   "id": "a8b90685",
   "metadata": {},
   "source": [
    "### Task-1.2 : Stock Market Prediction and Forecasting using Stacked LSTM"
   ]
  },
  {
   "cell_type": "markdown",
   "id": "ed302c6c",
   "metadata": {},
   "source": [
    "Dataset:https://raw.githubusercontent.com/mwitiderrick/stockprice/master/NSE-TATAGLOBAL.csv"
   ]
  },
  {
   "cell_type": "markdown",
   "id": "705482a5",
   "metadata": {},
   "source": [
    "#### Importing the Necessarty Libraries"
   ]
  },
  {
   "cell_type": "code",
   "execution_count": 1,
   "id": "4e136ba4",
   "metadata": {},
   "outputs": [],
   "source": [
    "import pandas as pd\n",
    "import numpy as np \n",
    "import matplotlib.pyplot as plt\n",
    "import tensorflow as tf\n",
    "from sklearn.preprocessing import MinMaxScaler\n",
    "\n",
    "# Ignoring warnings\n",
    "import warnings\n",
    "warnings.filterwarnings(\"ignore\")"
   ]
  },
  {
   "cell_type": "markdown",
   "id": "34cbebd7",
   "metadata": {},
   "source": [
    "### Reading the Data"
   ]
  },
  {
   "cell_type": "code",
   "execution_count": 3,
   "id": "1b3ff002",
   "metadata": {},
   "outputs": [
    {
     "data": {
      "text/html": [
       "<div>\n",
       "<style scoped>\n",
       "    .dataframe tbody tr th:only-of-type {\n",
       "        vertical-align: middle;\n",
       "    }\n",
       "\n",
       "    .dataframe tbody tr th {\n",
       "        vertical-align: top;\n",
       "    }\n",
       "\n",
       "    .dataframe thead th {\n",
       "        text-align: right;\n",
       "    }\n",
       "</style>\n",
       "<table border=\"1\" class=\"dataframe\">\n",
       "  <thead>\n",
       "    <tr style=\"text-align: right;\">\n",
       "      <th></th>\n",
       "      <th>Date</th>\n",
       "      <th>Open</th>\n",
       "      <th>High</th>\n",
       "      <th>Low</th>\n",
       "      <th>Last</th>\n",
       "      <th>Close</th>\n",
       "      <th>Total Trade Quantity</th>\n",
       "      <th>Turnover (Lacs)</th>\n",
       "    </tr>\n",
       "  </thead>\n",
       "  <tbody>\n",
       "    <tr>\n",
       "      <th>0</th>\n",
       "      <td>2018-09-28</td>\n",
       "      <td>234.05</td>\n",
       "      <td>235.95</td>\n",
       "      <td>230.20</td>\n",
       "      <td>233.50</td>\n",
       "      <td>233.75</td>\n",
       "      <td>3069914</td>\n",
       "      <td>7162.35</td>\n",
       "    </tr>\n",
       "    <tr>\n",
       "      <th>1</th>\n",
       "      <td>2018-09-27</td>\n",
       "      <td>234.55</td>\n",
       "      <td>236.80</td>\n",
       "      <td>231.10</td>\n",
       "      <td>233.80</td>\n",
       "      <td>233.25</td>\n",
       "      <td>5082859</td>\n",
       "      <td>11859.95</td>\n",
       "    </tr>\n",
       "    <tr>\n",
       "      <th>2</th>\n",
       "      <td>2018-09-26</td>\n",
       "      <td>240.00</td>\n",
       "      <td>240.00</td>\n",
       "      <td>232.50</td>\n",
       "      <td>235.00</td>\n",
       "      <td>234.25</td>\n",
       "      <td>2240909</td>\n",
       "      <td>5248.60</td>\n",
       "    </tr>\n",
       "    <tr>\n",
       "      <th>3</th>\n",
       "      <td>2018-09-25</td>\n",
       "      <td>233.30</td>\n",
       "      <td>236.75</td>\n",
       "      <td>232.00</td>\n",
       "      <td>236.25</td>\n",
       "      <td>236.10</td>\n",
       "      <td>2349368</td>\n",
       "      <td>5503.90</td>\n",
       "    </tr>\n",
       "    <tr>\n",
       "      <th>4</th>\n",
       "      <td>2018-09-24</td>\n",
       "      <td>233.55</td>\n",
       "      <td>239.20</td>\n",
       "      <td>230.75</td>\n",
       "      <td>234.00</td>\n",
       "      <td>233.30</td>\n",
       "      <td>3423509</td>\n",
       "      <td>7999.55</td>\n",
       "    </tr>\n",
       "  </tbody>\n",
       "</table>\n",
       "</div>"
      ],
      "text/plain": [
       "         Date    Open    High     Low    Last   Close  Total Trade Quantity  \\\n",
       "0  2018-09-28  234.05  235.95  230.20  233.50  233.75               3069914   \n",
       "1  2018-09-27  234.55  236.80  231.10  233.80  233.25               5082859   \n",
       "2  2018-09-26  240.00  240.00  232.50  235.00  234.25               2240909   \n",
       "3  2018-09-25  233.30  236.75  232.00  236.25  236.10               2349368   \n",
       "4  2018-09-24  233.55  239.20  230.75  234.00  233.30               3423509   \n",
       "\n",
       "   Turnover (Lacs)  \n",
       "0          7162.35  \n",
       "1         11859.95  \n",
       "2          5248.60  \n",
       "3          5503.90  \n",
       "4          7999.55  "
      ]
     },
     "execution_count": 3,
     "metadata": {},
     "output_type": "execute_result"
    }
   ],
   "source": [
    "dataset_link = \"https://raw.githubusercontent.com/mwitiderrick/stockprice/master/NSE-TATAGLOBAL.csv\"\n",
    "data = pd.read_csv(dataset_link)\n",
    "data.head()"
   ]
  },
  {
   "cell_type": "markdown",
   "id": "332d9d36",
   "metadata": {},
   "source": [
    "### Exploring Data and Making required changes for better understanding"
   ]
  },
  {
   "cell_type": "code",
   "execution_count": 5,
   "id": "118d7707",
   "metadata": {},
   "outputs": [
    {
     "data": {
      "text/plain": [
       "Date                    0\n",
       "Open                    0\n",
       "High                    0\n",
       "Low                     0\n",
       "Last                    0\n",
       "Close                   0\n",
       "Total Trade Quantity    0\n",
       "Turnover (Lacs)         0\n",
       "dtype: int64"
      ]
     },
     "execution_count": 5,
     "metadata": {},
     "output_type": "execute_result"
    }
   ],
   "source": [
    "data.isnull().sum()\n",
    "# No null values so we can proceed"
   ]
  },
  {
   "cell_type": "code",
   "execution_count": 6,
   "id": "00501c93",
   "metadata": {},
   "outputs": [],
   "source": [
    "data['Date'] = pd.to_datetime(data['Date'])"
   ]
  },
  {
   "cell_type": "code",
   "execution_count": 7,
   "id": "78cef74b",
   "metadata": {},
   "outputs": [
    {
     "data": {
      "text/html": [
       "<div>\n",
       "<style scoped>\n",
       "    .dataframe tbody tr th:only-of-type {\n",
       "        vertical-align: middle;\n",
       "    }\n",
       "\n",
       "    .dataframe tbody tr th {\n",
       "        vertical-align: top;\n",
       "    }\n",
       "\n",
       "    .dataframe thead th {\n",
       "        text-align: right;\n",
       "    }\n",
       "</style>\n",
       "<table border=\"1\" class=\"dataframe\">\n",
       "  <thead>\n",
       "    <tr style=\"text-align: right;\">\n",
       "      <th></th>\n",
       "      <th>Date</th>\n",
       "      <th>Open</th>\n",
       "      <th>High</th>\n",
       "      <th>Low</th>\n",
       "      <th>Last</th>\n",
       "      <th>Close</th>\n",
       "      <th>Total Trade Quantity</th>\n",
       "      <th>Turnover (Lacs)</th>\n",
       "    </tr>\n",
       "  </thead>\n",
       "  <tbody>\n",
       "    <tr>\n",
       "      <th>2034</th>\n",
       "      <td>2010-07-21</td>\n",
       "      <td>122.1</td>\n",
       "      <td>123.00</td>\n",
       "      <td>121.05</td>\n",
       "      <td>121.10</td>\n",
       "      <td>121.55</td>\n",
       "      <td>658666</td>\n",
       "      <td>803.56</td>\n",
       "    </tr>\n",
       "    <tr>\n",
       "      <th>2033</th>\n",
       "      <td>2010-07-22</td>\n",
       "      <td>120.3</td>\n",
       "      <td>122.00</td>\n",
       "      <td>120.25</td>\n",
       "      <td>120.75</td>\n",
       "      <td>120.90</td>\n",
       "      <td>293312</td>\n",
       "      <td>355.17</td>\n",
       "    </tr>\n",
       "    <tr>\n",
       "      <th>2032</th>\n",
       "      <td>2010-07-23</td>\n",
       "      <td>121.8</td>\n",
       "      <td>121.95</td>\n",
       "      <td>120.25</td>\n",
       "      <td>120.35</td>\n",
       "      <td>120.65</td>\n",
       "      <td>281312</td>\n",
       "      <td>340.31</td>\n",
       "    </tr>\n",
       "    <tr>\n",
       "      <th>2031</th>\n",
       "      <td>2010-07-26</td>\n",
       "      <td>120.1</td>\n",
       "      <td>121.00</td>\n",
       "      <td>117.10</td>\n",
       "      <td>117.10</td>\n",
       "      <td>117.60</td>\n",
       "      <td>658440</td>\n",
       "      <td>780.01</td>\n",
       "    </tr>\n",
       "    <tr>\n",
       "      <th>2030</th>\n",
       "      <td>2010-07-27</td>\n",
       "      <td>117.6</td>\n",
       "      <td>119.50</td>\n",
       "      <td>112.00</td>\n",
       "      <td>118.80</td>\n",
       "      <td>118.65</td>\n",
       "      <td>586100</td>\n",
       "      <td>694.98</td>\n",
       "    </tr>\n",
       "  </tbody>\n",
       "</table>\n",
       "</div>"
      ],
      "text/plain": [
       "           Date   Open    High     Low    Last   Close  Total Trade Quantity  \\\n",
       "2034 2010-07-21  122.1  123.00  121.05  121.10  121.55                658666   \n",
       "2033 2010-07-22  120.3  122.00  120.25  120.75  120.90                293312   \n",
       "2032 2010-07-23  121.8  121.95  120.25  120.35  120.65                281312   \n",
       "2031 2010-07-26  120.1  121.00  117.10  117.10  117.60                658440   \n",
       "2030 2010-07-27  117.6  119.50  112.00  118.80  118.65                586100   \n",
       "\n",
       "      Turnover (Lacs)  \n",
       "2034           803.56  \n",
       "2033           355.17  \n",
       "2032           340.31  \n",
       "2031           780.01  \n",
       "2030           694.98  "
      ]
     },
     "execution_count": 7,
     "metadata": {},
     "output_type": "execute_result"
    }
   ],
   "source": [
    "df = data.sort_values('Date')\n",
    "df.head()"
   ]
  },
  {
   "cell_type": "code",
   "execution_count": 8,
   "id": "ffbb29a7",
   "metadata": {},
   "outputs": [],
   "source": [
    "df.reset_index(inplace=True)"
   ]
  },
  {
   "cell_type": "markdown",
   "id": "6c891e20",
   "metadata": {},
   "source": [
    "### Visualizing the Data"
   ]
  },
  {
   "cell_type": "code",
   "execution_count": 9,
   "id": "8f05ddc8",
   "metadata": {},
   "outputs": [
    {
     "data": {
      "text/plain": [
       "[<matplotlib.lines.Line2D at 0x29d86fcbee0>]"
      ]
     },
     "execution_count": 9,
     "metadata": {},
     "output_type": "execute_result"
    },
    {
     "data": {
      "image/png": "[encoded data removed]",
      "text/plain": [
       "<Figure size 432x288 with 1 Axes>"
      ]
     },
     "metadata": {
      "needs_background": "light"
     },
     "output_type": "display_data"
    }
   ],
   "source": [
    "plt.plot(df['Close'])"
   ]
  },
  {
   "cell_type": "code",
   "execution_count": 10,
   "id": "8f960ffc",
   "metadata": {},
   "outputs": [
    {
     "data": {
      "text/plain": [
       "0       121.55\n",
       "1       120.90\n",
       "2       120.65\n",
       "3       117.60\n",
       "4       118.65\n",
       "         ...  \n",
       "2030    233.30\n",
       "2031    236.10\n",
       "2032    234.25\n",
       "2033    233.25\n",
       "2034    233.75\n",
       "Name: Close, Length: 2035, dtype: float64"
      ]
     },
     "execution_count": 10,
     "metadata": {},
     "output_type": "execute_result"
    }
   ],
   "source": [
    "df_close = df['Close']\n",
    "df_close"
   ]
  },
  {
   "cell_type": "markdown",
   "id": "2e55d9d4",
   "metadata": {},
   "source": [
    "Now it is time to use the MinMaxScaler to scale the attributes"
   ]
  },
  {
   "cell_type": "code",
   "execution_count": 11,
   "id": "d94095b1",
   "metadata": {},
   "outputs": [],
   "source": [
    "scaler = MinMaxScaler(feature_range=(0,1))"
   ]
  },
  {
   "cell_type": "code",
   "execution_count": 12,
   "id": "71fe8e54",
   "metadata": {},
   "outputs": [
    {
     "data": {
      "text/plain": [
       "array([[0.16584967],\n",
       "       [0.16319444],\n",
       "       [0.1621732 ],\n",
       "       ...,\n",
       "       [0.62622549],\n",
       "       [0.62214052],\n",
       "       [0.62418301]])"
      ]
     },
     "execution_count": 12,
     "metadata": {},
     "output_type": "execute_result"
    }
   ],
   "source": [
    "df_close = scaler.fit_transform(np.array(df_close).reshape(-1,1))\n",
    "df_close"
   ]
  },
  {
   "cell_type": "markdown",
   "id": "bfd1c806",
   "metadata": {},
   "source": [
    "The scaling and transformation is complete as you can see it above in an array"
   ]
  },
  {
   "cell_type": "markdown",
   "id": "360630f9",
   "metadata": {},
   "source": [
    "Now, it is time to split the data"
   ]
  },
  {
   "cell_type": "code",
   "execution_count": 13,
   "id": "6ecd2162",
   "metadata": {},
   "outputs": [],
   "source": [
    "training_size = int(len(df_close)*0.70)\n",
    "test_size = len(df_close) - training_size\n",
    "train, test = df_close[0: training_size,:], df_close[training_size : len(df_close),:1]"
   ]
  },
  {
   "cell_type": "code",
   "execution_count": 14,
   "id": "4a9e68c9",
   "metadata": {},
   "outputs": [],
   "source": [
    "# Let us convert the array values previously calculated into a matrix\n",
    "def create_mat(ds, time_step = 1):\n",
    "    dataX, dataY = [], []\n",
    "    for i in range(len(ds)-time_step-1):\n",
    "        a = ds[i:(i+time_step),0]\n",
    "        dataX.append(a)\n",
    "        dataY.append(ds[i + time_step, 0])\n",
    "    return np.array(dataX), np.array(dataY)"
   ]
  },
  {
   "cell_type": "code",
   "execution_count": 15,
   "id": "75e006c8",
   "metadata": {},
   "outputs": [],
   "source": [
    "time_step = 100\n",
    "X_train, y_train = create_mat(train, time_step)\n",
    "X_test, y_test = create_mat(test, time_step)"
   ]
  },
  {
   "cell_type": "code",
   "execution_count": 16,
   "id": "cd4e6f1f",
   "metadata": {},
   "outputs": [
    {
     "data": {
      "text/plain": [
       "(1323, 100)"
      ]
     },
     "execution_count": 16,
     "metadata": {},
     "output_type": "execute_result"
    }
   ],
   "source": [
    "X_train.shape"
   ]
  },
  {
   "cell_type": "code",
   "execution_count": 17,
   "id": "6f311648",
   "metadata": {},
   "outputs": [
    {
     "data": {
      "text/plain": [
       "(1323,)"
      ]
     },
     "execution_count": 17,
     "metadata": {},
     "output_type": "execute_result"
    }
   ],
   "source": [
    "y_train.shape"
   ]
  },
  {
   "cell_type": "code",
   "execution_count": 18,
   "id": "d014ea6d",
   "metadata": {},
   "outputs": [
    {
     "data": {
      "text/plain": [
       "(510, 100)"
      ]
     },
     "execution_count": 18,
     "metadata": {},
     "output_type": "execute_result"
    }
   ],
   "source": [
    "X_test.shape"
   ]
  },
  {
   "cell_type": "code",
   "execution_count": 19,
   "id": "a840fbce",
   "metadata": {},
   "outputs": [
    {
     "data": {
      "text/plain": [
       "(510,)"
      ]
     },
     "execution_count": 19,
     "metadata": {},
     "output_type": "execute_result"
    }
   ],
   "source": [
    "y_test.shape"
   ]
  },
  {
   "cell_type": "code",
   "execution_count": 20,
   "id": "734f5714",
   "metadata": {},
   "outputs": [],
   "source": [
    "X_train = X_train.reshape(X_train.shape[0], X_train.shape[1], 1)\n",
    "X_test = X_test.reshape(X_test.shape[0], X_test.shape[1], 1)"
   ]
  },
  {
   "cell_type": "markdown",
   "id": "9507c666",
   "metadata": {},
   "source": [
    "### It is now time to Create the LSTM Model"
   ]
  },
  {
   "cell_type": "code",
   "execution_count": 21,
   "id": "a6a206a9",
   "metadata": {},
   "outputs": [],
   "source": [
    "from tensorflow.keras.models import Sequential\n",
    "from tensorflow.keras.layers import Dense\n",
    "from tensorflow.keras.layers import LSTM"
   ]
  },
  {
   "cell_type": "code",
   "execution_count": 22,
   "id": "536279f2",
   "metadata": {},
   "outputs": [
    {
     "name": "stdout",
     "output_type": "stream",
     "text": [
      "Model: \"sequential\"\n",
      "_________________________________________________________________\n",
      "Layer (type)                 Output Shape              Param #   \n",
      "=================================================================\n",
      "lstm (LSTM)                  (None, 100, 50)           10400     \n",
      "_________________________________________________________________\n",
      "lstm_1 (LSTM)                (None, 100, 50)           20200     \n",
      "_________________________________________________________________\n",
      "lstm_2 (LSTM)                (None, 50)                20200     \n",
      "_________________________________________________________________\n",
      "dense (Dense)                (None, 1)                 51        \n",
      "=================================================================\n",
      "Total params: 50,851\n",
      "Trainable params: 50,851\n",
      "Non-trainable params: 0\n",
      "_________________________________________________________________\n"
     ]
    }
   ],
   "source": [
    "model = Sequential()\n",
    "model.add(LSTM(50,return_sequences=True,input_shape=(100,1)))\n",
    "model.add(LSTM(50,return_sequences=True))\n",
    "model.add(LSTM(50))\n",
    "model.add(Dense(1))\n",
    "model.compile(loss='mean_squared_error',optimizer='adam')\n",
    "model.summary()"
   ]
  },
  {
   "cell_type": "code",
   "execution_count": 23,
   "id": "6afb5a39",
   "metadata": {},
   "outputs": [
    {
     "name": "stdout",
     "output_type": "stream",
     "text": [
      "Epoch 1/60\n",
      "19/19 [==============================] - 7s 168ms/step - loss: 0.0139 - val_loss: 0.0012\n",
      "Epoch 2/60\n",
      "19/19 [==============================] - 2s 118ms/step - loss: 0.0020 - val_loss: 0.0015\n",
      "Epoch 3/60\n",
      "19/19 [==============================] - 2s 108ms/step - loss: 8.9482e-04 - val_loss: 0.0012\n",
      "Epoch 4/60\n",
      "19/19 [==============================] - 2s 119ms/step - loss: 8.1921e-04 - val_loss: 0.0011\n",
      "Epoch 5/60\n",
      "19/19 [==============================] - 2s 107ms/step - loss: 8.1257e-04 - val_loss: 0.0011\n",
      "Epoch 6/60\n",
      "19/19 [==============================] - 2s 111ms/step - loss: 7.7151e-04 - val_loss: 0.0011\n",
      "Epoch 7/60\n",
      "19/19 [==============================] - 2s 120ms/step - loss: 7.7875e-04 - val_loss: 9.8203e-04\n",
      "Epoch 8/60\n",
      "19/19 [==============================] - 2s 120ms/step - loss: 7.2421e-04 - val_loss: 9.4794e-04\n",
      "Epoch 9/60\n",
      "19/19 [==============================] - 2s 112ms/step - loss: 7.0619e-04 - val_loss: 8.7443e-04\n",
      "Epoch 10/60\n",
      "19/19 [==============================] - 2s 108ms/step - loss: 6.6949e-04 - val_loss: 8.5260e-04\n",
      "Epoch 11/60\n",
      "19/19 [==============================] - 2s 108ms/step - loss: 6.4951e-04 - val_loss: 7.7365e-04\n",
      "Epoch 12/60\n",
      "19/19 [==============================] - 2s 110ms/step - loss: 6.4189e-04 - val_loss: 7.7041e-04\n",
      "Epoch 13/60\n",
      "19/19 [==============================] - 2s 115ms/step - loss: 6.2171e-04 - val_loss: 7.0067e-04\n",
      "Epoch 14/60\n",
      "19/19 [==============================] - 2s 108ms/step - loss: 6.3354e-04 - val_loss: 7.5655e-04\n",
      "Epoch 15/60\n",
      "19/19 [==============================] - 2s 110ms/step - loss: 5.7641e-04 - val_loss: 6.7164e-04\n",
      "Epoch 16/60\n",
      "19/19 [==============================] - 2s 114ms/step - loss: 5.6148e-04 - val_loss: 7.0480e-04\n",
      "Epoch 17/60\n",
      "19/19 [==============================] - 2s 124ms/step - loss: 5.8108e-04 - val_loss: 6.5978e-04\n",
      "Epoch 18/60\n",
      "19/19 [==============================] - 2s 112ms/step - loss: 5.3266e-04 - val_loss: 5.8508e-04\n",
      "Epoch 19/60\n",
      "19/19 [==============================] - 2s 116ms/step - loss: 5.6404e-04 - val_loss: 6.4562e-04\n",
      "Epoch 20/60\n",
      "19/19 [==============================] - 2s 123ms/step - loss: 5.0829e-04 - val_loss: 5.5419e-04\n",
      "Epoch 21/60\n",
      "19/19 [==============================] - 2s 114ms/step - loss: 5.0392e-04 - val_loss: 5.5970e-04\n",
      "Epoch 22/60\n",
      "19/19 [==============================] - 2s 119ms/step - loss: 4.8196e-04 - val_loss: 5.5812e-04\n",
      "Epoch 23/60\n",
      "19/19 [==============================] - 2s 133ms/step - loss: 4.6855e-04 - val_loss: 4.9853e-04\n",
      "Epoch 24/60\n",
      "19/19 [==============================] - 2s 109ms/step - loss: 4.8221e-04 - val_loss: 5.1710e-04\n",
      "Epoch 25/60\n",
      "19/19 [==============================] - 2s 113ms/step - loss: 4.5865e-04 - val_loss: 4.8972e-04\n",
      "Epoch 26/60\n",
      "19/19 [==============================] - 2s 118ms/step - loss: 4.4508e-04 - val_loss: 4.5258e-04\n",
      "Epoch 27/60\n",
      "19/19 [==============================] - 2s 116ms/step - loss: 5.1219e-04 - val_loss: 4.9927e-04\n",
      "Epoch 28/60\n",
      "19/19 [==============================] - 2s 115ms/step - loss: 4.4725e-04 - val_loss: 4.2813e-04\n",
      "Epoch 29/60\n",
      "19/19 [==============================] - 2s 123ms/step - loss: 4.1683e-04 - val_loss: 4.6436e-04\n",
      "Epoch 30/60\n",
      "19/19 [==============================] - 2s 118ms/step - loss: 4.1607e-04 - val_loss: 4.1063e-04\n",
      "Epoch 31/60\n",
      "19/19 [==============================] - 2s 123ms/step - loss: 4.2479e-04 - val_loss: 4.0405e-04\n",
      "Epoch 32/60\n",
      "19/19 [==============================] - 2s 121ms/step - loss: 4.1391e-04 - val_loss: 4.2384e-04\n",
      "Epoch 33/60\n",
      "19/19 [==============================] - 2s 112ms/step - loss: 3.8695e-04 - val_loss: 4.2355e-04\n",
      "Epoch 34/60\n",
      "19/19 [==============================] - 2s 105ms/step - loss: 3.9689e-04 - val_loss: 3.5616e-04\n",
      "Epoch 35/60\n",
      "19/19 [==============================] - 2s 116ms/step - loss: 3.7558e-04 - val_loss: 3.6543e-04\n",
      "Epoch 36/60\n",
      "19/19 [==============================] - 2s 112ms/step - loss: 3.5226e-04 - val_loss: 3.4318e-04\n",
      "Epoch 37/60\n",
      "19/19 [==============================] - 2s 124ms/step - loss: 3.5889e-04 - val_loss: 3.4720e-04\n",
      "Epoch 38/60\n",
      "19/19 [==============================] - 3s 135ms/step - loss: 3.5124e-04 - val_loss: 3.4415e-04\n",
      "Epoch 39/60\n",
      "19/19 [==============================] - 2s 129ms/step - loss: 3.3346e-04 - val_loss: 2.9602e-04\n",
      "Epoch 40/60\n",
      "19/19 [==============================] - 2s 122ms/step - loss: 3.8220e-04 - val_loss: 4.7073e-04\n",
      "Epoch 41/60\n",
      "19/19 [==============================] - 2s 123ms/step - loss: 3.3582e-04 - val_loss: 2.9346e-04\n",
      "Epoch 42/60\n",
      "19/19 [==============================] - 2s 117ms/step - loss: 3.2844e-04 - val_loss: 2.8719e-04\n",
      "Epoch 43/60\n",
      "19/19 [==============================] - 2s 116ms/step - loss: 3.1389e-04 - val_loss: 2.8071e-04\n",
      "Epoch 44/60\n",
      "19/19 [==============================] - 2s 118ms/step - loss: 3.1893e-04 - val_loss: 2.6224e-04\n",
      "Epoch 45/60\n",
      "19/19 [==============================] - 2s 117ms/step - loss: 2.9118e-04 - val_loss: 2.5164e-04\n",
      "Epoch 46/60\n",
      "19/19 [==============================] - 2s 117ms/step - loss: 2.8589e-04 - val_loss: 2.5410e-04\n",
      "Epoch 47/60\n",
      "19/19 [==============================] - 2s 116ms/step - loss: 2.8881e-04 - val_loss: 2.4628e-04\n",
      "Epoch 48/60\n",
      "19/19 [==============================] - 2s 118ms/step - loss: 2.8217e-04 - val_loss: 2.4691e-04\n",
      "Epoch 49/60\n",
      "19/19 [==============================] - 2s 117ms/step - loss: 2.6758e-04 - val_loss: 2.3300e-04\n",
      "Epoch 50/60\n",
      "19/19 [==============================] - 2s 118ms/step - loss: 2.7174e-04 - val_loss: 2.2055e-04\n",
      "Epoch 51/60\n",
      "19/19 [==============================] - 2s 118ms/step - loss: 2.6264e-04 - val_loss: 2.9780e-04\n",
      "Epoch 52/60\n",
      "19/19 [==============================] - 2s 117ms/step - loss: 3.0862e-04 - val_loss: 2.5725e-04\n",
      "Epoch 53/60\n",
      "19/19 [==============================] - 2s 119ms/step - loss: 3.0228e-04 - val_loss: 2.6589e-04\n",
      "Epoch 54/60\n",
      "19/19 [==============================] - 2s 117ms/step - loss: 2.4336e-04 - val_loss: 2.0514e-04\n",
      "Epoch 55/60\n",
      "19/19 [==============================] - 2s 118ms/step - loss: 2.3646e-04 - val_loss: 2.0068e-04\n",
      "Epoch 56/60\n",
      "19/19 [==============================] - 2s 117ms/step - loss: 2.3697e-04 - val_loss: 3.2610e-04\n",
      "Epoch 57/60\n",
      "19/19 [==============================] - 2s 116ms/step - loss: 2.5938e-04 - val_loss: 2.1023e-04\n",
      "Epoch 58/60\n",
      "19/19 [==============================] - 2s 118ms/step - loss: 2.3492e-04 - val_loss: 2.1277e-04\n",
      "Epoch 59/60\n",
      "19/19 [==============================] - 2s 118ms/step - loss: 2.1943e-04 - val_loss: 1.8312e-04\n",
      "Epoch 60/60\n",
      "19/19 [==============================] - 2s 120ms/step - loss: 2.1849e-04 - val_loss: 2.1382e-04\n"
     ]
    },
    {
     "data": {
      "text/plain": [
       "<keras.callbacks.History at 0x29d885a3100>"
      ]
     },
     "execution_count": 23,
     "metadata": {},
     "output_type": "execute_result"
    }
   ],
   "source": [
    "model.fit(X_train, y_train, validation_split=0.1, epochs= 60, batch_size=64, verbose = 1)"
   ]
  },
  {
   "cell_type": "markdown",
   "id": "70461046",
   "metadata": {},
   "source": [
    "### Now, it is time to Predict"
   ]
  },
  {
   "cell_type": "code",
   "execution_count": 24,
   "id": "9983831b",
   "metadata": {},
   "outputs": [],
   "source": [
    "predictions = model.predict(X_test)"
   ]
  },
  {
   "cell_type": "code",
   "execution_count": 25,
   "id": "83e7cdab",
   "metadata": {},
   "outputs": [],
   "source": [
    "# performing inverse transform on predictions\n",
    "inv_predictions = scaler.inverse_transform(predictions)"
   ]
  },
  {
   "cell_type": "code",
   "execution_count": 26,
   "id": "33175332",
   "metadata": {},
   "outputs": [
    {
     "data": {
      "text/plain": [
       "array([[143.12436 ],\n",
       "       [143.36656 ],\n",
       "       [142.6401  ],\n",
       "       [140.24992 ],\n",
       "       [138.42792 ],\n",
       "       [137.6123  ],\n",
       "       [138.47002 ],\n",
       "       [139.9794  ],\n",
       "       [140.6421  ],\n",
       "       [140.50539 ],\n",
       "       [140.26422 ],\n",
       "       [141.16673 ],\n",
       "       [141.9362  ],\n",
       "       [143.40633 ],\n",
       "       [145.51144 ],\n",
       "       [144.18436 ],\n",
       "       [141.93965 ],\n",
       "       [141.14551 ],\n",
       "       [141.449   ],\n",
       "       [145.75476 ],\n",
       "       [150.2603  ],\n",
       "       [153.02765 ],\n",
       "       [153.87152 ],\n",
       "       [152.18597 ],\n",
       "       [151.56244 ],\n",
       "       [151.09671 ],\n",
       "       [151.339   ],\n",
       "       [152.84361 ],\n",
       "       [153.7741  ],\n",
       "       [153.99205 ],\n",
       "       [154.34227 ],\n",
       "       [153.36852 ],\n",
       "       [150.42856 ],\n",
       "       [145.06557 ],\n",
       "       [141.2194  ],\n",
       "       [139.68855 ],\n",
       "       [139.60744 ],\n",
       "       [139.02003 ],\n",
       "       [137.07588 ],\n",
       "       [133.67503 ],\n",
       "       [130.95274 ],\n",
       "       [129.42351 ],\n",
       "       [127.39543 ],\n",
       "       [126.42072 ],\n",
       "       [124.577446],\n",
       "       [122.14452 ],\n",
       "       [121.17029 ],\n",
       "       [120.72344 ],\n",
       "       [120.87595 ],\n",
       "       [120.16864 ],\n",
       "       [119.38035 ],\n",
       "       [118.904175],\n",
       "       [118.13605 ],\n",
       "       [118.10595 ],\n",
       "       [119.167046],\n",
       "       [120.81915 ],\n",
       "       [122.747406],\n",
       "       [123.79849 ],\n",
       "       [123.850395],\n",
       "       [123.85567 ],\n",
       "       [123.91448 ],\n",
       "       [123.74244 ],\n",
       "       [123.86026 ],\n",
       "       [124.208244],\n",
       "       [124.4688  ],\n",
       "       [124.59754 ],\n",
       "       [124.490425],\n",
       "       [124.72216 ],\n",
       "       [125.12335 ],\n",
       "       [125.49258 ],\n",
       "       [124.95151 ],\n",
       "       [124.058525],\n",
       "       [122.75374 ],\n",
       "       [121.451096],\n",
       "       [120.10329 ],\n",
       "       [119.936844],\n",
       "       [120.35843 ],\n",
       "       [121.25615 ],\n",
       "       [122.36134 ],\n",
       "       [123.61606 ],\n",
       "       [124.81679 ],\n",
       "       [125.62112 ],\n",
       "       [126.119064],\n",
       "       [126.177986],\n",
       "       [125.991264],\n",
       "       [125.68038 ],\n",
       "       [126.21152 ],\n",
       "       [126.57215 ],\n",
       "       [127.45936 ],\n",
       "       [128.31093 ],\n",
       "       [128.84344 ],\n",
       "       [129.31508 ],\n",
       "       [130.162   ],\n",
       "       [129.94153 ],\n",
       "       [129.45247 ],\n",
       "       [129.22319 ],\n",
       "       [129.24911 ],\n",
       "       [129.63536 ],\n",
       "       [130.45471 ],\n",
       "       [130.84935 ],\n",
       "       [131.14264 ],\n",
       "       [133.40489 ],\n",
       "       [137.50168 ],\n",
       "       [141.60477 ],\n",
       "       [143.87807 ],\n",
       "       [145.5811  ],\n",
       "       [145.90845 ],\n",
       "       [145.34506 ],\n",
       "       [143.97836 ],\n",
       "       [142.49574 ],\n",
       "       [140.84528 ],\n",
       "       [140.15027 ],\n",
       "       [140.3725  ],\n",
       "       [141.47484 ],\n",
       "       [142.6892  ],\n",
       "       [142.99744 ],\n",
       "       [142.3998  ],\n",
       "       [141.42058 ],\n",
       "       [140.34364 ],\n",
       "       [141.25615 ],\n",
       "       [142.30069 ],\n",
       "       [143.51805 ],\n",
       "       [144.37302 ],\n",
       "       [144.53172 ],\n",
       "       [143.81874 ],\n",
       "       [142.70103 ],\n",
       "       [140.6738  ],\n",
       "       [139.5721  ],\n",
       "       [139.94002 ],\n",
       "       [142.15945 ],\n",
       "       [144.66846 ],\n",
       "       [146.83846 ],\n",
       "       [147.86159 ],\n",
       "       [146.96815 ],\n",
       "       [148.03398 ],\n",
       "       [149.99265 ],\n",
       "       [150.745   ],\n",
       "       [151.042   ],\n",
       "       [151.13864 ],\n",
       "       [151.01373 ],\n",
       "       [150.98784 ],\n",
       "       [151.54068 ],\n",
       "       [152.5162  ],\n",
       "       [153.49516 ],\n",
       "       [153.27455 ],\n",
       "       [152.56494 ],\n",
       "       [152.79633 ],\n",
       "       [152.99281 ],\n",
       "       [152.5705  ],\n",
       "       [151.59392 ],\n",
       "       [150.2879  ],\n",
       "       [150.01292 ],\n",
       "       [151.12451 ],\n",
       "       [152.24646 ],\n",
       "       [153.0287  ],\n",
       "       [153.22923 ],\n",
       "       [153.7258  ],\n",
       "       [153.69206 ],\n",
       "       [153.64339 ],\n",
       "       [155.21986 ],\n",
       "       [156.6523  ],\n",
       "       [156.99753 ],\n",
       "       [155.54845 ],\n",
       "       [153.84393 ],\n",
       "       [153.34062 ],\n",
       "       [154.04126 ],\n",
       "       [154.78319 ],\n",
       "       [154.71028 ],\n",
       "       [154.88452 ],\n",
       "       [155.18126 ],\n",
       "       [154.85248 ],\n",
       "       [152.42535 ],\n",
       "       [150.43779 ],\n",
       "       [149.0797  ],\n",
       "       [147.51309 ],\n",
       "       [145.32956 ],\n",
       "       [144.04198 ],\n",
       "       [145.0299  ],\n",
       "       [146.41284 ],\n",
       "       [147.3219  ],\n",
       "       [148.79749 ],\n",
       "       [151.08958 ],\n",
       "       [153.76517 ],\n",
       "       [155.60475 ],\n",
       "       [155.52231 ],\n",
       "       [155.25642 ],\n",
       "       [154.86334 ],\n",
       "       [154.51134 ],\n",
       "       [153.58498 ],\n",
       "       [154.22931 ],\n",
       "       [156.381   ],\n",
       "       [158.73914 ],\n",
       "       [159.90492 ],\n",
       "       [159.3088  ],\n",
       "       [158.21652 ],\n",
       "       [157.42107 ],\n",
       "       [156.4236  ],\n",
       "       [154.40729 ],\n",
       "       [151.31218 ],\n",
       "       [149.52126 ],\n",
       "       [149.04387 ],\n",
       "       [150.08344 ],\n",
       "       [151.79776 ],\n",
       "       [152.5817  ],\n",
       "       [154.48344 ],\n",
       "       [155.4415  ],\n",
       "       [156.80544 ],\n",
       "       [161.00839 ],\n",
       "       [166.28868 ],\n",
       "       [171.37636 ],\n",
       "       [174.80762 ],\n",
       "       [175.42517 ],\n",
       "       [175.41316 ],\n",
       "       [174.11072 ],\n",
       "       [173.31836 ],\n",
       "       [171.9033  ],\n",
       "       [171.21835 ],\n",
       "       [170.60507 ],\n",
       "       [170.81496 ],\n",
       "       [171.88625 ],\n",
       "       [171.47607 ],\n",
       "       [170.6427  ],\n",
       "       [170.18994 ],\n",
       "       [169.31929 ],\n",
       "       [167.55763 ],\n",
       "       [166.61375 ],\n",
       "       [166.46193 ],\n",
       "       [168.19273 ],\n",
       "       [168.43617 ],\n",
       "       [166.07358 ],\n",
       "       [161.1134  ],\n",
       "       [160.04738 ],\n",
       "       [167.2097  ],\n",
       "       [181.51491 ],\n",
       "       [191.8607  ],\n",
       "       [196.2083  ],\n",
       "       [196.26717 ],\n",
       "       [191.76872 ],\n",
       "       [189.99698 ],\n",
       "       [189.94771 ],\n",
       "       [190.3387  ],\n",
       "       [189.68619 ],\n",
       "       [191.94257 ],\n",
       "       [195.36177 ],\n",
       "       [197.45598 ],\n",
       "       [195.99434 ],\n",
       "       [194.99303 ],\n",
       "       [198.91202 ],\n",
       "       [203.17262 ],\n",
       "       [205.50127 ],\n",
       "       [206.65233 ],\n",
       "       [207.96317 ],\n",
       "       [206.61752 ],\n",
       "       [206.71686 ],\n",
       "       [207.05931 ],\n",
       "       [208.52664 ],\n",
       "       [211.17068 ],\n",
       "       [211.90663 ],\n",
       "       [210.65898 ],\n",
       "       [204.37451 ],\n",
       "       [197.14601 ],\n",
       "       [197.19505 ],\n",
       "       [198.16338 ],\n",
       "       [200.57512 ],\n",
       "       [203.60577 ],\n",
       "       [205.50476 ],\n",
       "       [205.01668 ],\n",
       "       [205.48154 ],\n",
       "       [206.23413 ],\n",
       "       [205.93974 ],\n",
       "       [205.27765 ],\n",
       "       [205.29979 ],\n",
       "       [206.8823  ],\n",
       "       [207.6488  ],\n",
       "       [207.30843 ],\n",
       "       [207.0785  ],\n",
       "       [205.60597 ],\n",
       "       [203.35722 ],\n",
       "       [201.38036 ],\n",
       "       [203.5637  ],\n",
       "       [204.70903 ],\n",
       "       [206.44205 ],\n",
       "       [212.3927  ],\n",
       "       [219.9748  ],\n",
       "       [223.96724 ],\n",
       "       [224.26367 ],\n",
       "       [222.15894 ],\n",
       "       [219.78561 ],\n",
       "       [223.10974 ],\n",
       "       [222.98427 ],\n",
       "       [220.96532 ],\n",
       "       [227.09009 ],\n",
       "       [231.86124 ],\n",
       "       [232.0587  ],\n",
       "       [235.94617 ],\n",
       "       [241.52098 ],\n",
       "       [244.80116 ],\n",
       "       [248.75049 ],\n",
       "       [257.849   ],\n",
       "       [262.90417 ],\n",
       "       [263.38968 ],\n",
       "       [262.4187  ],\n",
       "       [263.72205 ],\n",
       "       [264.9126  ],\n",
       "       [270.48483 ],\n",
       "       [271.14493 ],\n",
       "       [272.78857 ],\n",
       "       [272.60083 ],\n",
       "       [269.71097 ],\n",
       "       [268.2506  ],\n",
       "       [266.15314 ],\n",
       "       [269.54648 ],\n",
       "       [275.22415 ],\n",
       "       [282.597   ],\n",
       "       [280.67932 ],\n",
       "       [274.51813 ],\n",
       "       [270.9138  ],\n",
       "       [272.01404 ],\n",
       "       [276.1662  ],\n",
       "       [283.49487 ],\n",
       "       [287.3637  ],\n",
       "       [286.8976  ],\n",
       "       [286.42184 ],\n",
       "       [287.91702 ],\n",
       "       [289.0106  ],\n",
       "       [289.8087  ],\n",
       "       [294.92633 ],\n",
       "       [296.79407 ],\n",
       "       [295.32913 ],\n",
       "       [293.93954 ],\n",
       "       [294.28476 ],\n",
       "       [295.52408 ],\n",
       "       [298.60486 ],\n",
       "       [299.29562 ],\n",
       "       [298.0604  ],\n",
       "       [296.70905 ],\n",
       "       [302.3199  ],\n",
       "       [305.37613 ],\n",
       "       [301.9876  ],\n",
       "       [297.3382  ],\n",
       "       [291.74457 ],\n",
       "       [291.1166  ],\n",
       "       [293.20142 ],\n",
       "       [293.97595 ],\n",
       "       [292.2268  ],\n",
       "       [290.66605 ],\n",
       "       [288.94156 ],\n",
       "       [289.15417 ],\n",
       "       [283.3337  ],\n",
       "       [277.78024 ],\n",
       "       [269.63467 ],\n",
       "       [264.891   ],\n",
       "       [261.5381  ],\n",
       "       [267.1736  ],\n",
       "       [272.54263 ],\n",
       "       [272.4482  ],\n",
       "       [273.1316  ],\n",
       "       [271.94403 ],\n",
       "       [268.8894  ],\n",
       "       [265.26025 ],\n",
       "       [260.0758  ],\n",
       "       [255.22823 ],\n",
       "       [255.6742  ],\n",
       "       [255.97021 ],\n",
       "       [259.91898 ],\n",
       "       [264.17786 ],\n",
       "       [266.2004  ],\n",
       "       [266.02164 ],\n",
       "       [264.61176 ],\n",
       "       [263.8899  ],\n",
       "       [263.18134 ],\n",
       "       [260.43896 ],\n",
       "       [260.93732 ],\n",
       "       [260.29608 ],\n",
       "       [263.26184 ],\n",
       "       [267.01373 ],\n",
       "       [268.66132 ],\n",
       "       [268.87292 ],\n",
       "       [264.9592  ],\n",
       "       [256.17728 ],\n",
       "       [251.88365 ],\n",
       "       [253.04996 ],\n",
       "       [253.51425 ],\n",
       "       [252.77422 ],\n",
       "       [254.09668 ],\n",
       "       [256.09125 ],\n",
       "       [254.32825 ],\n",
       "       [260.4764  ],\n",
       "       [265.01465 ],\n",
       "       [263.25568 ],\n",
       "       [261.35297 ],\n",
       "       [260.73392 ],\n",
       "       [263.50116 ],\n",
       "       [264.91077 ],\n",
       "       [264.1432  ],\n",
       "       [263.2716  ],\n",
       "       [263.95657 ],\n",
       "       [266.93463 ],\n",
       "       [269.57803 ],\n",
       "       [271.85907 ],\n",
       "       [273.59106 ],\n",
       "       [274.04688 ],\n",
       "       [272.4309  ],\n",
       "       [270.91693 ],\n",
       "       [273.48282 ],\n",
       "       [277.14163 ],\n",
       "       [279.23215 ],\n",
       "       [282.03848 ],\n",
       "       [281.12564 ],\n",
       "       [276.39435 ],\n",
       "       [274.04208 ],\n",
       "       [277.53232 ],\n",
       "       [278.86514 ],\n",
       "       [279.4659  ],\n",
       "       [276.34305 ],\n",
       "       [274.8903  ],\n",
       "       [259.85532 ],\n",
       "       [242.47993 ],\n",
       "       [235.1993  ],\n",
       "       [239.91147 ],\n",
       "       [244.70395 ],\n",
       "       [245.14911 ],\n",
       "       [244.7276  ],\n",
       "       [245.14262 ],\n",
       "       [246.93163 ],\n",
       "       [249.10406 ],\n",
       "       [250.9327  ],\n",
       "       [249.75955 ],\n",
       "       [251.28267 ],\n",
       "       [255.47125 ],\n",
       "       [255.37381 ],\n",
       "       [249.83003 ],\n",
       "       [249.9839  ],\n",
       "       [253.93063 ],\n",
       "       [257.56113 ],\n",
       "       [258.78055 ],\n",
       "       [256.861   ],\n",
       "       [256.84433 ],\n",
       "       [258.7332  ],\n",
       "       [264.0339  ],\n",
       "       [264.67764 ],\n",
       "       [264.40204 ],\n",
       "       [260.24695 ],\n",
       "       [254.17381 ],\n",
       "       [250.12804 ],\n",
       "       [251.57155 ],\n",
       "       [255.58026 ],\n",
       "       [259.30194 ],\n",
       "       [259.59293 ],\n",
       "       [257.35065 ],\n",
       "       [257.97617 ],\n",
       "       [256.96625 ],\n",
       "       [263.5325  ],\n",
       "       [267.41495 ],\n",
       "       [264.48056 ],\n",
       "       [258.45682 ],\n",
       "       [259.644   ],\n",
       "       [263.02222 ],\n",
       "       [262.55963 ],\n",
       "       [258.72986 ],\n",
       "       [253.22696 ],\n",
       "       [243.12732 ],\n",
       "       [239.73047 ],\n",
       "       [237.0872  ],\n",
       "       [233.30908 ],\n",
       "       [233.83144 ],\n",
       "       [237.93333 ],\n",
       "       [241.89902 ],\n",
       "       [238.40921 ],\n",
       "       [234.34283 ],\n",
       "       [233.94421 ],\n",
       "       [235.05673 ],\n",
       "       [238.02422 ],\n",
       "       [234.70262 ],\n",
       "       [230.41138 ],\n",
       "       [228.2785  ],\n",
       "       [230.70856 ],\n",
       "       [232.79243 ],\n",
       "       [232.73427 ],\n",
       "       [232.28638 ],\n",
       "       [230.2679  ],\n",
       "       [229.12299 ],\n",
       "       [230.47299 ],\n",
       "       [232.90446 ],\n",
       "       [235.94965 ],\n",
       "       [238.43648 ],\n",
       "       [237.01248 ],\n",
       "       [232.29099 ],\n",
       "       [226.98941 ],\n",
       "       [227.57872 ],\n",
       "       [228.8469  ],\n",
       "       [230.00392 ],\n",
       "       [231.21    ],\n",
       "       [230.9637  ],\n",
       "       [231.23656 ],\n",
       "       [225.50217 ],\n",
       "       [219.59605 ],\n",
       "       [216.67741 ],\n",
       "       [217.607   ],\n",
       "       [219.14015 ],\n",
       "       [217.0957  ],\n",
       "       [217.5135  ],\n",
       "       [224.1243  ],\n",
       "       [230.75037 ],\n",
       "       [232.36433 ],\n",
       "       [230.57993 ],\n",
       "       [228.31305 ],\n",
       "       [226.6323  ],\n",
       "       [227.5526  ],\n",
       "       [228.41925 ]], dtype=float32)"
      ]
     },
     "execution_count": 26,
     "metadata": {},
     "output_type": "execute_result"
    }
   ],
   "source": [
    "inv_predictions"
   ]
  },
  {
   "cell_type": "markdown",
   "id": "42cf6a10",
   "metadata": {},
   "source": [
    "Since we have predicted the values, now let us check mean squared error for our model"
   ]
  },
  {
   "cell_type": "code",
   "execution_count": 27,
   "id": "f6360828",
   "metadata": {},
   "outputs": [],
   "source": [
    "import math\n",
    "from sklearn.metrics import mean_squared_error"
   ]
  },
  {
   "cell_type": "code",
   "execution_count": 28,
   "id": "db58b751",
   "metadata": {},
   "outputs": [
    {
     "name": "stdout",
     "output_type": "stream",
     "text": [
      "The Mean Squared Error for above model is:  0.0347134734053988\n"
     ]
    }
   ],
   "source": [
    "mse = math.sqrt(mean_squared_error(y_test, predictions))\n",
    "print(\"The Mean Squared Error for above model is: \", mse)"
   ]
  }
 ],
 "metadata": {
  "kernelspec": {
   "display_name": "Python 3 (ipykernel)",
   "language": "python",
   "name": "python3"
  },
  "language_info": {
   "codemirror_mode": {
    "name": "ipython",
    "version": 3
   },
   "file_extension": ".py",
   "mimetype": "text/x-python",
   "name": "python",
   "nbconvert_exporter": "python",
   "pygments_lexer": "ipython3",
   "version": "3.9.7"
  }
 },
 "nbformat": 4,
 "nbformat_minor": 5
}
